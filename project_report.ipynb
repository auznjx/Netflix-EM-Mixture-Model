{
 "cells": [
  {
   "cell_type": "markdown",
   "metadata": {},
   "source": [
    "# Xin Jin and Xuan guo's Project Report \n",
    "\n",
    "### Project goal\n",
    "Our Project focus on EM algorithm to identify the unusual users in the Netflix data set. After elimate these users. We can have a better result in recommendation the movies\n",
    "\n",
    "### Introduction of EM algorithm\n",
    "The Expectation-Maximization (EM) algorithm is a way to find maximum-likelihood estimates for model parameters when your data is incomplete, has missing data points, or has unobserved (hidden) latent variables. It is an iterative way to approximate the maximum likelihood function. While maximum likelihood estimation can find the “best fit” model for a set of data, it doesn’t work particularly well for incomplete data sets. The more complex EM algorithm can find model parameters even if you have missing data. It works by choosing random values for the missing data points, and using those guesses to estimate a second set of data. The new values are used to create a better guess for the first set, and the process continues until the algorithm converges on a fixed point.\n",
    "\n"
   ]
  },
  {
   "cell_type": "markdown",
   "metadata": {},
   "source": [
    "### First part: Clean the dataset and prepare for the EM algorithm\n"
   ]
  },
  {
   "cell_type": "markdown",
   "metadata": {},
   "source": [
    "#### 1.Import the package we will use "
   ]
  },
  {
   "cell_type": "code",
   "execution_count": 1,
   "metadata": {
    "collapsed": true
   },
   "outputs": [],
   "source": [
    "import pandas as pd #handle data\n",
    "import numpy as np\n",
    "import math\n",
    "import matplotlib.pyplot as plt \n",
    "import re #regular expression\n",
    "from scipy.sparse import csr_matrix #Compressed Sparse Row matrix\n",
    "import matplotlib.pyplot as plt\n",
    "import seaborn as sns # plot package related to statistics\n",
    "#package related to recommend system\n",
    "from surprise import Reader, Dataset, SVD, evaluate \n",
    "from surprise.model_selection import cross_validate"
   ]
  },
  {
   "cell_type": "markdown",
   "metadata": {},
   "source": [
    "#### 2.Load the dataset"
   ]
  },
  {
   "cell_type": "code",
   "execution_count": 2,
   "metadata": {
    "collapsed": true
   },
   "outputs": [],
   "source": [
    "df = pd.read_csv('D:\\TAMU\\courses\\stat 689 Statistical Computing with R and Python,\\project/combined_data_1.txt', header = None, names = ['Cust_Id', 'Rating'], usecols = [0,1])\n",
    "df['Rating'] = df['Rating'].astype(float)\n"
   ]
  },
  {
   "cell_type": "markdown",
   "metadata": {},
   "source": [
    "#### 3.Here we roughly look at the size of the dataset"
   ]
  },
  {
   "cell_type": "code",
   "execution_count": 3,
   "metadata": {},
   "outputs": [
    {
     "name": "stdout",
     "output_type": "stream",
     "text": [
      "Dataset 1 shape: (24058263, 2)\n",
      "-Dataset examples-\n",
      "          Cust_Id  Rating\n",
      "0              1:     NaN\n",
      "5000000   2560324     4.0\n",
      "10000000  2271935     2.0\n",
      "15000000  1921803     2.0\n",
      "20000000  1933327     3.0\n"
     ]
    }
   ],
   "source": [
    "print('Dataset 1 shape: {}'.format(df.shape))\n",
    "print('-Dataset examples-')\n",
    "print(df.iloc[::5000000, :])"
   ]
  },
  {
   "cell_type": "markdown",
   "metadata": {},
   "source": [
    "From the above output, we can see there are 24 million rating in this dataset, it is very big! And we see that the there is a movie id in the first row, then followed by rating, after the rating about movie 1, then there's movie 2 in a row and then ratings. We cannot keep the data set like this, I think we should try to keep the user id in a new col, then it will be possible for us to handle the dataset"
   ]
  },
  {
   "cell_type": "markdown",
   "metadata": {},
   "source": [
    "#### 4.Here we start wo do data cleaning"
   ]
  },
  {
   "cell_type": "code",
   "execution_count": 4,
   "metadata": {
    "collapsed": true
   },
   "outputs": [],
   "source": [
    "df_nan = pd.DataFrame(pd.isnull(df.Rating)) #find the rating which is null\n",
    "df_nan = df_nan[df_nan[\"Rating\"]==True] # reduce the matrix, only show the rows with null\n",
    "df_nan = df_nan.reset_index()\n",
    "movie_np = []\n",
    "movie_id = 1\n",
    "\n"
   ]
  },
  {
   "cell_type": "markdown",
   "metadata": {},
   "source": [
    "Here we create a dataframe to find the movie id row. We will keep these movie id in a list and then put the movie id in the third column of the dataframe."
   ]
  },
  {
   "cell_type": "code",
   "execution_count": 5,
   "metadata": {
    "collapsed": true
   },
   "outputs": [],
   "source": [
    "for i,j in zip(df_nan[\"index\"][1:],df_nan[\"index\"][:-1]):\n",
    "    temp = np.full((1,i-j-1),movie_id) #create a constant array, the constant is the movie id\n",
    "    movie_np = np.append(movie_np,temp)\n",
    "    movie_id += 1\n"
   ]
  },
  {
   "cell_type": "markdown",
   "metadata": {},
   "source": [
    "We keep the movie Id in a list"
   ]
  },
  {
   "cell_type": "code",
   "execution_count": 6,
   "metadata": {},
   "outputs": [
    {
     "name": "stdout",
     "output_type": "stream",
     "text": [
      "Movie numpy: [  1.00000000e+00   1.00000000e+00   1.00000000e+00 ...,   4.49900000e+03\n",
      "   4.49900000e+03   4.49900000e+03]\n",
      "Length: 24053764\n"
     ]
    }
   ],
   "source": [
    "last_record = np.full((1,len(df)-df_nan.iloc[-1,0]-1),movie_id)\n",
    "movie_np = np.append(movie_np,last_record)\n",
    "\n",
    "print('Movie numpy: {}'.format(movie_np))\n",
    "print('Length: {}'.format(len(movie_np)))"
   ]
  },
  {
   "cell_type": "markdown",
   "metadata": {},
   "source": [
    "We get the movie list above, the last one should be added. We print the length to be convinient to debug, if the length is not match the rest rows, then we can easily look at the length."
   ]
  },
  {
   "cell_type": "code",
   "execution_count": 7,
   "metadata": {},
   "outputs": [
    {
     "name": "stdout",
     "output_type": "stream",
     "text": [
      "-Dataset examples-\n",
      "          Cust_Id  Rating  Movie_Id\n",
      "1         1488844     3.0         1\n",
      "5000996    501954     2.0       996\n",
      "10001962   404654     5.0      1962\n",
      "15002876   886608     2.0      2876\n",
      "20003825  1193835     2.0      3825\n"
     ]
    }
   ],
   "source": [
    "df = df[pd.notnull(df['Rating'])]\n",
    "\n",
    "df['Movie_Id'] = movie_np.astype(int)\n",
    "df['Cust_Id'] = df['Cust_Id'].astype(int)\n",
    "print('-Dataset examples-')\n",
    "print(df.iloc[::5000000, :])"
   ]
  },
  {
   "cell_type": "markdown",
   "metadata": {},
   "source": [
    "We add the movie id to the third column and we show how the dataframe like now. The dataframe is what we want. After we get this dataset, we can begin to handle the dataset."
   ]
  },
  {
   "cell_type": "markdown",
   "metadata": {},
   "source": [
    "#### 5.Data slicing"
   ]
  },
  {
   "cell_type": "markdown",
   "metadata": {},
   "source": [
    "The data set is too big and we really have problems in memory if we handle the whole dataset, so we decide to reduce the dataset. For the movies with a few ratings and the users who only rates a few movies, they won't do too much help for the recommendation, sometimes they even reduce the reliability of the recommendation system. So we decide to only keep the movies and users who has a lot of ratings."
   ]
  },
  {
   "cell_type": "code",
   "execution_count": 8,
   "metadata": {},
   "outputs": [
    {
     "name": "stdout",
     "output_type": "stream",
     "text": [
      "Movie minimum times of review: 3884.0\n"
     ]
    }
   ],
   "source": [
    "f = [\"count\",\"mean\"]\n",
    "df_movie_summary = df.groupby(\"Movie_Id\")[\"Rating\"].agg(f) #get the mean rating of movie and the rating quantity\n",
    "df_movie_summary.index = df_movie_summary.index.map(int)\n",
    "# drop the movies with small numbers of rating quantity\n",
    "movie_benchmark = round(df_movie_summary['count'].quantile(0.8),0)\n",
    "drop_movie_list = df_movie_summary[df_movie_summary['count'] < movie_benchmark].index \n",
    "print('Movie minimum times of review: {}'.format(movie_benchmark))"
   ]
  },
  {
   "cell_type": "markdown",
   "metadata": {},
   "source": [
    "We keep the movie with more than 3884 reviews"
   ]
  },
  {
   "cell_type": "code",
   "execution_count": 9,
   "metadata": {},
   "outputs": [
    {
     "name": "stdout",
     "output_type": "stream",
     "text": [
      "Customer minimum times of review: 79.0\n"
     ]
    }
   ],
   "source": [
    "df_cust_summary = df.groupby('Cust_Id')['Rating'].agg(f)\n",
    "df_cust_summary.index = df_cust_summary.index.map(int)\n",
    "cust_benchmark = round(df_cust_summary['count'].quantile(0.8),0)\n",
    "drop_cust_list = df_cust_summary[df_cust_summary['count'] < cust_benchmark].index\n",
    "\n",
    "print('Customer minimum times of review: {}'.format(cust_benchmark))"
   ]
  },
  {
   "cell_type": "markdown",
   "metadata": {},
   "source": [
    "We keep the user with more than 79 reviews"
   ]
  },
  {
   "cell_type": "code",
   "execution_count": 10,
   "metadata": {},
   "outputs": [
    {
     "name": "stdout",
     "output_type": "stream",
     "text": [
      "Original Shape: (24053764, 3)\n",
      "After Trim Shape: (13528427, 3)\n",
      "-Data Examples-\n",
      "          Cust_Id  Rating  Movie_Id\n",
      "5109       785314     1.0         8\n",
      "8889698    332300     3.0      1770\n",
      "17751978   629874     4.0      3391\n"
     ]
    }
   ],
   "source": [
    "print('Original Shape: {}'.format(df.shape))\n",
    "df = df[~df['Movie_Id'].isin(drop_movie_list)]\n",
    "df = df[~df['Cust_Id'].isin(drop_cust_list)]\n",
    "print('After Trim Shape: {}'.format(df.shape))\n",
    "print('-Data Examples-')\n",
    "print(df.iloc[::5000000, :])"
   ]
  },
  {
   "cell_type": "markdown",
   "metadata": {},
   "source": [
    "From above, after removing those specific movies and users, we still have 13 million data"
   ]
  },
  {
   "cell_type": "code",
   "execution_count": 11,
   "metadata": {},
   "outputs": [
    {
     "name": "stdout",
     "output_type": "stream",
     "text": [
      "(95325, 900)\n"
     ]
    }
   ],
   "source": [
    "df_p = pd.pivot_table(df,values='Rating',index='Cust_Id',columns='Movie_Id')\n",
    "\n",
    "print(df_p.shape)"
   ]
  },
  {
   "cell_type": "markdown",
   "metadata": {},
   "source": [
    "We have 95325 users and 900 movies"
   ]
  },
  {
   "cell_type": "code",
   "execution_count": 12,
   "metadata": {
    "scrolled": false
   },
   "outputs": [
    {
     "name": "stdout",
     "output_type": "stream",
     "text": [
      "          Cust_Id  Rating  Movie_Id\n",
      "5109       785314     1.0         8\n",
      "5110       243963     3.0         8\n",
      "5112      1447783     4.0         8\n",
      "5116      1912665     1.0         8\n",
      "5119      1744889     1.0         8\n",
      "5122      2289614     3.0         8\n",
      "5125      2460625     3.0         8\n",
      "5127      2330282     4.0         8\n",
      "5128      2098867     4.0         8\n",
      "5129      1395430     2.0         8\n",
      "5131        56069     5.0         8\n",
      "5134      1571931     3.0         8\n",
      "5141      1833399     3.0         8\n",
      "5144        66358     3.0         8\n",
      "5145       512852     3.0         8\n",
      "5146      1191521     4.0         8\n",
      "5147       439011     4.0         8\n",
      "5154      1205593     4.0         8\n",
      "5155       176006     1.0         8\n",
      "5157      1488844     4.0         8\n",
      "5158      1947516     1.0         8\n",
      "5160      1320901     4.0         8\n",
      "5168       802657     5.0         8\n",
      "5169      2312677     3.0         8\n",
      "5172      1829027     5.0         8\n",
      "5173        44317     4.0         8\n",
      "5174      1447354     1.0         8\n",
      "5175       306466     4.0         8\n",
      "5178      1331154     4.0         8\n",
      "5179      1818178     3.0         8\n",
      "...           ...     ...       ...\n",
      "24056803   501054     3.0      4496\n",
      "24056804  1349433     4.0      4496\n",
      "24056805  1198365     4.0      4496\n",
      "24056806  1544409     4.0      4496\n",
      "24056811  2087152     5.0      4496\n",
      "24056812  1607300     4.0      4496\n",
      "24056814  1678880     3.0      4496\n",
      "24056815  2513621     4.0      4496\n",
      "24056816   324510     3.0      4496\n",
      "24056817  2374464     4.0      4496\n",
      "24056818  2051123     4.0      4496\n",
      "24056820  1388741     4.0      4496\n",
      "24056821   611936     1.0      4496\n",
      "24056822  1704416     4.0      4496\n",
      "24056824  2082805     5.0      4496\n",
      "24056825  1428223     4.0      4496\n",
      "24056826   581449     4.0      4496\n",
      "24056827   315769     4.0      4496\n",
      "24056829   395028     3.0      4496\n",
      "24056831  1628998     4.0      4496\n",
      "24056832  2082452     3.0      4496\n",
      "24056833  2186425     3.0      4496\n",
      "24056834   945992     3.0      4496\n",
      "24056837   196584     5.0      4496\n",
      "24056839    15737     4.0      4496\n",
      "24056840   823628     5.0      4496\n",
      "24056841   520675     3.0      4496\n",
      "24056842  1055714     5.0      4496\n",
      "24056845  1559566     3.0      4496\n",
      "24056846   293198     3.0      4496\n",
      "\n",
      "[13528427 rows x 3 columns]\n"
     ]
    }
   ],
   "source": [
    "print(df)"
   ]
  },
  {
   "cell_type": "markdown",
   "metadata": {},
   "source": [
    "This is a brief look of the dataframe, the movie Id and Customer Id is a mess, in order to handle and view the data set easily, I will change the customer id into 1-95325 and movie id into 1-900."
   ]
  },
  {
   "cell_type": "code",
   "execution_count": 13,
   "metadata": {
    "scrolled": false
   },
   "outputs": [
    {
     "name": "stdout",
     "output_type": "stream",
     "text": [
      "Movie_Id  8     17    18    26    28    30    33    44    46    52    ...   \\\n",
      "Cust_Id                                                               ...    \n",
      "6          NaN   NaN   NaN   NaN   NaN   3.0   NaN   NaN   NaN   NaN  ...    \n",
      "7          5.0   NaN   NaN   NaN   4.0   5.0   NaN   NaN   NaN   NaN  ...    \n",
      "79         NaN   NaN   NaN   NaN   NaN   3.0   NaN   NaN   NaN   NaN  ...    \n",
      "97         NaN   NaN   NaN   NaN   NaN   NaN   NaN   NaN   NaN   NaN  ...    \n",
      "134        NaN   NaN   NaN   NaN   5.0   NaN   NaN   NaN   NaN   NaN  ...    \n",
      "188        NaN   NaN   NaN   NaN   NaN   3.0   NaN   NaN   NaN   NaN  ...    \n",
      "195        NaN   NaN   NaN   NaN   NaN   NaN   NaN   NaN   NaN   NaN  ...    \n",
      "199        NaN   NaN   NaN   NaN   NaN   5.0   NaN   NaN   NaN   NaN  ...    \n",
      "201        NaN   NaN   NaN   NaN   4.0   5.0   NaN   NaN   NaN   NaN  ...    \n",
      "265        NaN   NaN   NaN   NaN   3.0   5.0   NaN   NaN   NaN   NaN  ...    \n",
      "283        NaN   NaN   NaN   NaN   NaN   4.0   NaN   NaN   NaN   NaN  ...    \n",
      "383        NaN   NaN   NaN   NaN   3.0   NaN   NaN   NaN   NaN   NaN  ...    \n",
      "462        NaN   2.0   NaN   NaN   NaN   5.0   NaN   NaN   NaN   NaN  ...    \n",
      "477        NaN   NaN   NaN   NaN   NaN   3.0   NaN   NaN   NaN   NaN  ...    \n",
      "481        NaN   NaN   NaN   NaN   NaN   5.0   NaN   NaN   NaN   NaN  ...    \n",
      "527        NaN   NaN   NaN   NaN   5.0   4.0   NaN   NaN   NaN   NaN  ...    \n",
      "561        NaN   NaN   NaN   NaN   NaN   NaN   NaN   NaN   NaN   NaN  ...    \n",
      "592        NaN   NaN   NaN   NaN   4.0   4.0   NaN   NaN   NaN   NaN  ...    \n",
      "596        NaN   NaN   NaN   NaN   NaN   NaN   NaN   NaN   NaN   NaN  ...    \n",
      "602        NaN   NaN   NaN   NaN   NaN   5.0   NaN   NaN   NaN   NaN  ...    \n",
      "609        NaN   NaN   NaN   NaN   NaN   NaN   NaN   NaN   NaN   NaN  ...    \n",
      "684        NaN   NaN   NaN   NaN   NaN   NaN   NaN   3.0   NaN   NaN  ...    \n",
      "695        1.0   NaN   NaN   NaN   NaN   NaN   NaN   NaN   NaN   NaN  ...    \n",
      "735        NaN   NaN   NaN   NaN   NaN   NaN   NaN   NaN   NaN   NaN  ...    \n",
      "756        NaN   NaN   NaN   NaN   NaN   3.0   NaN   NaN   NaN   NaN  ...    \n",
      "769        NaN   NaN   NaN   NaN   NaN   NaN   NaN   NaN   NaN   NaN  ...    \n",
      "785        NaN   NaN   NaN   NaN   NaN   5.0   NaN   NaN   NaN   NaN  ...    \n",
      "788        NaN   NaN   NaN   NaN   NaN   4.0   NaN   NaN   NaN   NaN  ...    \n",
      "906        NaN   NaN   NaN   NaN   3.0   3.0   NaN   NaN   NaN   NaN  ...    \n",
      "981        NaN   NaN   NaN   NaN   NaN   2.0   NaN   NaN   NaN   NaN  ...    \n",
      "...        ...   ...   ...   ...   ...   ...   ...   ...   ...   ...  ...    \n",
      "2648678    NaN   NaN   NaN   NaN   5.0   NaN   NaN   NaN   NaN   NaN  ...    \n",
      "2648725    NaN   NaN   4.0   NaN   NaN   NaN   NaN   NaN   NaN   NaN  ...    \n",
      "2648730    NaN   NaN   NaN   NaN   4.0   3.0   NaN   NaN   NaN   NaN  ...    \n",
      "2648734    NaN   NaN   NaN   NaN   NaN   NaN   NaN   NaN   NaN   NaN  ...    \n",
      "2648768    NaN   NaN   NaN   NaN   NaN   2.0   NaN   NaN   NaN   NaN  ...    \n",
      "2648826    NaN   NaN   NaN   NaN   NaN   NaN   NaN   NaN   NaN   NaN  ...    \n",
      "2648845    NaN   NaN   NaN   NaN   NaN   2.0   NaN   NaN   NaN   NaN  ...    \n",
      "2648853    NaN   NaN   4.0   NaN   2.0   3.0   NaN   NaN   NaN   NaN  ...    \n",
      "2648869    NaN   NaN   NaN   NaN   NaN   3.0   NaN   3.0   NaN   NaN  ...    \n",
      "2648873    NaN   NaN   NaN   NaN   NaN   NaN   NaN   NaN   NaN   NaN  ...    \n",
      "2648885    NaN   NaN   NaN   NaN   4.0   NaN   5.0   NaN   NaN   NaN  ...    \n",
      "2648928    NaN   NaN   NaN   NaN   NaN   NaN   5.0   NaN   NaN   NaN  ...    \n",
      "2649027    NaN   NaN   NaN   NaN   NaN   3.0   NaN   5.0   NaN   NaN  ...    \n",
      "2649049    NaN   NaN   NaN   NaN   NaN   3.0   NaN   4.0   NaN   NaN  ...    \n",
      "2649050    NaN   NaN   3.0   NaN   NaN   4.0   NaN   NaN   NaN   NaN  ...    \n",
      "2649057    NaN   NaN   NaN   NaN   NaN   NaN   NaN   NaN   NaN   NaN  ...    \n",
      "2649059    NaN   NaN   NaN   NaN   NaN   2.0   NaN   NaN   NaN   NaN  ...    \n",
      "2649067    NaN   NaN   NaN   3.0   NaN   1.0   NaN   NaN   NaN   NaN  ...    \n",
      "2649093    NaN   2.0   NaN   2.0   NaN   NaN   NaN   NaN   NaN   NaN  ...    \n",
      "2649100    NaN   NaN   NaN   NaN   5.0   NaN   NaN   NaN   NaN   NaN  ...    \n",
      "2649110    NaN   NaN   NaN   NaN   NaN   3.0   NaN   NaN   NaN   NaN  ...    \n",
      "2649120    NaN   NaN   NaN   NaN   NaN   1.0   NaN   NaN   NaN   NaN  ...    \n",
      "2649231    NaN   NaN   NaN   NaN   3.0   4.0   NaN   NaN   NaN   NaN  ...    \n",
      "2649257    NaN   NaN   NaN   NaN   NaN   4.0   NaN   NaN   NaN   NaN  ...    \n",
      "2649267    NaN   NaN   NaN   NaN   NaN   5.0   NaN   NaN   NaN   NaN  ...    \n",
      "2649285    NaN   NaN   NaN   NaN   4.0   3.0   NaN   NaN   NaN   NaN  ...    \n",
      "2649296    NaN   NaN   NaN   NaN   4.0   3.0   NaN   NaN   NaN   NaN  ...    \n",
      "2649308    NaN   NaN   4.0   NaN   NaN   NaN   NaN   NaN   NaN   NaN  ...    \n",
      "2649335    NaN   NaN   NaN   NaN   NaN   NaN   NaN   NaN   NaN   NaN  ...    \n",
      "2649336    4.0   NaN   NaN   NaN   NaN   NaN   NaN   NaN   NaN   NaN  ...    \n",
      "\n",
      "Movie_Id  4454  4465  4472  4474  4479  4488  4490  4492  4493  4496  \n",
      "Cust_Id                                                               \n",
      "6          NaN   NaN   3.0   NaN   NaN   NaN   NaN   NaN   NaN   NaN  \n",
      "7          NaN   2.0   3.0   NaN   5.0   NaN   NaN   NaN   NaN   NaN  \n",
      "79         NaN   NaN   4.0   NaN   NaN   NaN   4.0   NaN   NaN   NaN  \n",
      "97         NaN   NaN   NaN   NaN   NaN   NaN   NaN   NaN   NaN   NaN  \n",
      "134        NaN   NaN   NaN   NaN   NaN   NaN   NaN   NaN   NaN   NaN  \n",
      "188        NaN   NaN   NaN   NaN   NaN   NaN   3.0   3.0   NaN   NaN  \n",
      "195        NaN   NaN   4.0   NaN   NaN   NaN   NaN   NaN   NaN   NaN  \n",
      "199        NaN   NaN   NaN   NaN   NaN   NaN   NaN   NaN   NaN   NaN  \n",
      "201        NaN   NaN   2.0   NaN   NaN   NaN   NaN   NaN   NaN   NaN  \n",
      "265        NaN   NaN   4.0   NaN   NaN   4.0   NaN   NaN   NaN   NaN  \n",
      "283        NaN   NaN   5.0   NaN   NaN   NaN   NaN   NaN   NaN   NaN  \n",
      "383        NaN   NaN   NaN   NaN   NaN   NaN   NaN   NaN   NaN   NaN  \n",
      "462        NaN   NaN   NaN   NaN   4.0   NaN   NaN   NaN   NaN   NaN  \n",
      "477        NaN   NaN   4.0   NaN   NaN   NaN   NaN   NaN   NaN   3.0  \n",
      "481        NaN   NaN   4.0   NaN   NaN   NaN   NaN   NaN   NaN   NaN  \n",
      "527        NaN   NaN   5.0   NaN   4.0   3.0   NaN   NaN   NaN   NaN  \n",
      "561        NaN   NaN   5.0   NaN   NaN   NaN   NaN   NaN   NaN   NaN  \n",
      "592        NaN   NaN   4.0   NaN   NaN   NaN   NaN   NaN   NaN   NaN  \n",
      "596        NaN   NaN   NaN   NaN   NaN   NaN   NaN   NaN   NaN   NaN  \n",
      "602        NaN   NaN   3.0   NaN   NaN   NaN   NaN   NaN   NaN   NaN  \n",
      "609        NaN   NaN   NaN   NaN   NaN   NaN   NaN   NaN   NaN   NaN  \n",
      "684        NaN   NaN   NaN   NaN   NaN   NaN   NaN   NaN   NaN   4.0  \n",
      "695        NaN   NaN   NaN   NaN   3.0   NaN   NaN   NaN   NaN   NaN  \n",
      "735        NaN   NaN   1.0   NaN   NaN   NaN   NaN   NaN   NaN   NaN  \n",
      "756        NaN   NaN   NaN   NaN   NaN   NaN   1.0   NaN   NaN   NaN  \n",
      "769        NaN   NaN   4.0   NaN   NaN   4.0   NaN   2.0   4.0   NaN  \n",
      "785        NaN   NaN   NaN   NaN   NaN   NaN   NaN   NaN   NaN   NaN  \n",
      "788        NaN   NaN   3.0   NaN   NaN   NaN   NaN   NaN   NaN   NaN  \n",
      "906        5.0   3.0   NaN   NaN   4.0   3.0   NaN   NaN   NaN   NaN  \n",
      "981        NaN   NaN   NaN   NaN   NaN   3.0   NaN   NaN   NaN   NaN  \n",
      "...        ...   ...   ...   ...   ...   ...   ...   ...   ...   ...  \n",
      "2648678    NaN   NaN   NaN   NaN   NaN   NaN   NaN   NaN   NaN   5.0  \n",
      "2648725    NaN   NaN   4.0   NaN   NaN   2.0   NaN   NaN   NaN   NaN  \n",
      "2648730    NaN   NaN   4.0   NaN   NaN   NaN   NaN   NaN   NaN   NaN  \n",
      "2648734    NaN   NaN   3.0   NaN   NaN   NaN   NaN   NaN   NaN   NaN  \n",
      "2648768    NaN   NaN   NaN   NaN   NaN   NaN   NaN   NaN   NaN   NaN  \n",
      "2648826    NaN   NaN   4.0   NaN   NaN   NaN   NaN   NaN   NaN   NaN  \n",
      "2648845    NaN   NaN   4.0   NaN   NaN   NaN   NaN   NaN   NaN   NaN  \n",
      "2648853    2.0   NaN   4.0   NaN   NaN   NaN   NaN   NaN   NaN   NaN  \n",
      "2648869    NaN   NaN   1.0   NaN   NaN   3.0   NaN   NaN   NaN   5.0  \n",
      "2648873    NaN   NaN   NaN   NaN   3.0   4.0   NaN   NaN   NaN   NaN  \n",
      "2648885    NaN   NaN   4.0   NaN   NaN   5.0   NaN   NaN   NaN   NaN  \n",
      "2648928    NaN   NaN   NaN   NaN   NaN   NaN   NaN   NaN   NaN   NaN  \n",
      "2649027    NaN   NaN   5.0   NaN   NaN   4.0   NaN   NaN   NaN   NaN  \n",
      "2649049    NaN   NaN   NaN   NaN   NaN   NaN   NaN   NaN   NaN   NaN  \n",
      "2649050    NaN   NaN   3.0   NaN   NaN   NaN   NaN   NaN   NaN   NaN  \n",
      "2649057    NaN   NaN   4.0   NaN   NaN   NaN   NaN   NaN   NaN   NaN  \n",
      "2649059    NaN   NaN   1.0   NaN   NaN   NaN   NaN   NaN   NaN   NaN  \n",
      "2649067    NaN   NaN   4.0   NaN   NaN   NaN   NaN   NaN   NaN   NaN  \n",
      "2649093    NaN   NaN   4.0   NaN   NaN   NaN   3.0   NaN   NaN   NaN  \n",
      "2649100    NaN   NaN   1.0   NaN   NaN   NaN   NaN   NaN   NaN   NaN  \n",
      "2649110    NaN   NaN   3.0   NaN   NaN   NaN   NaN   NaN   NaN   NaN  \n",
      "2649120    4.0   NaN   3.0   NaN   5.0   4.0   NaN   NaN   NaN   NaN  \n",
      "2649231    NaN   NaN   NaN   NaN   NaN   NaN   NaN   NaN   NaN   NaN  \n",
      "2649257    NaN   NaN   4.0   NaN   NaN   3.0   NaN   NaN   NaN   NaN  \n",
      "2649267    NaN   NaN   5.0   NaN   NaN   NaN   NaN   NaN   NaN   NaN  \n",
      "2649285    NaN   NaN   5.0   NaN   NaN   4.0   NaN   NaN   NaN   NaN  \n",
      "2649296    NaN   NaN   NaN   NaN   NaN   NaN   NaN   NaN   NaN   NaN  \n",
      "2649308    NaN   NaN   4.0   NaN   NaN   NaN   NaN   NaN   NaN   4.0  \n",
      "2649335    NaN   NaN   NaN   NaN   NaN   NaN   NaN   NaN   NaN   NaN  \n",
      "2649336    NaN   NaN   3.0   NaN   NaN   5.0   NaN   NaN   NaN   NaN  \n",
      "\n",
      "[95325 rows x 900 columns]\n"
     ]
    }
   ],
   "source": [
    "print(df_p)"
   ]
  },
  {
   "cell_type": "markdown",
   "metadata": {},
   "source": [
    "This is the pivot table"
   ]
  },
  {
   "cell_type": "markdown",
   "metadata": {},
   "source": [
    "#### 6.Change the Id into a better form"
   ]
  },
  {
   "cell_type": "code",
   "execution_count": 12,
   "metadata": {
    "collapsed": true
   },
   "outputs": [],
   "source": [
    "movie_id_1 = []\n",
    "for i in df['Movie_Id']:\n",
    "    movie_id_1.append(i)"
   ]
  },
  {
   "cell_type": "markdown",
   "metadata": {},
   "source": [
    "store the movie id in a list"
   ]
  },
  {
   "cell_type": "code",
   "execution_count": 13,
   "metadata": {},
   "outputs": [
    {
     "name": "stdout",
     "output_type": "stream",
     "text": [
      "13528427\n",
      "900\n"
     ]
    }
   ],
   "source": [
    "movie_id_2 = set(movie_id_1)\n",
    "movie_id_2 = list(movie_id_2)\n",
    "print(len(movie_id_1))\n",
    "print(len(movie_id_2))"
   ]
  },
  {
   "cell_type": "code",
   "execution_count": 14,
   "metadata": {
    "collapsed": true
   },
   "outputs": [],
   "source": [
    "movie_dic ={}\n",
    "j = 1\n",
    "for i in range(len(movie_id_1)-1):\n",
    "    if movie_id_1[i] == movie_id_1[i+1] and movie_id_1[i] not in movie_dic.keys():\n",
    "        movie_dic[movie_id_1[i]] = j\n",
    "    elif movie_id_1[i] != movie_id_1[i+1] :\n",
    "        j += 1"
   ]
  },
  {
   "cell_type": "markdown",
   "metadata": {},
   "source": [
    "Create a dictionary to change the original customer id in to 1,2,3....95325"
   ]
  },
  {
   "cell_type": "code",
   "execution_count": 15,
   "metadata": {
    "collapsed": true
   },
   "outputs": [],
   "source": [
    "movie_new = []\n",
    "for i in movie_id_1:\n",
    "    movie_new.append(movie_dic[i])"
   ]
  },
  {
   "cell_type": "markdown",
   "metadata": {},
   "source": [
    "Get the new movie id list"
   ]
  },
  {
   "cell_type": "code",
   "execution_count": 16,
   "metadata": {
    "collapsed": true
   },
   "outputs": [],
   "source": [
    "df2 = df\n",
    "df2 = df2.sort_values(by =\"Cust_Id\")"
   ]
  },
  {
   "cell_type": "code",
   "execution_count": 19,
   "metadata": {},
   "outputs": [
    {
     "name": "stdout",
     "output_type": "stream",
     "text": [
      "          Cust_Id  Rating  Movie_Id\n",
      "19883587        6     2.0      3798\n",
      "21919658        6     4.0      4127\n",
      "11625971        6     3.0      2200\n",
      "9275314         6     3.0      1832\n",
      "21537115        6     5.0      4043\n",
      "881822          6     3.0       197\n",
      "7693939         6     3.0      1542\n",
      "17390462        6     4.0      3333\n",
      "9157986         6     3.0      1803\n",
      "10342769        6     4.0      2001\n",
      "15390152        6     4.0      2953\n",
      "6774976         6     3.0      1314\n",
      "16312184        6     1.0      3151\n",
      "18514848        6     3.0      3538\n",
      "17269698        6     3.0      3320\n",
      "2357555         6     3.0       445\n",
      "18792200        6     4.0      3608\n",
      "9916054         6     4.0      1918\n",
      "23530651        6     3.0      4393\n",
      "13897038        6     3.0      2660\n",
      "19720401        6     3.0      3756\n",
      "7802129         6     3.0      1561\n",
      "4928285         6     4.0       985\n",
      "23774363        6     3.0      4432\n",
      "9843632         6     4.0      1905\n",
      "19952991        6     2.0      3817\n",
      "20290505        6     3.0      3860\n",
      "11033735        6     4.0      2140\n",
      "16823857        6     3.0      3265\n",
      "19184892        6     4.0      3638\n",
      "...           ...     ...       ...\n",
      "5443121   2649336     4.0      1102\n",
      "18152155  2649336     3.0      3446\n",
      "8647831   2649336     3.0      1719\n",
      "4102119   2649336     4.0       788\n",
      "13899140  2649336     3.0      2660\n",
      "11546120  2649336     4.0      2192\n",
      "10898960  2649336     5.0      2122\n",
      "8762601   2649336     4.0      1744\n",
      "23273197  2649336     3.0      4356\n",
      "17166839  2649336     2.0      3312\n",
      "10386382  2649336     2.0      2009\n",
      "6625246   2649336     2.0      1305\n",
      "22843109  2649336     5.0      4306\n",
      "19058364  2649336     4.0      3624\n",
      "13067286  2649336     3.0      2465\n",
      "1725500   2649336     3.0       329\n",
      "3785246   2649336     5.0       720\n",
      "2218579   2649336     2.0       416\n",
      "4567512   2649336     3.0       886\n",
      "15448684  2649336     3.0      2960\n",
      "12083894  2649336     4.0      2342\n",
      "19285216  2649336     5.0      3650\n",
      "19109328  2649336     2.0      3626\n",
      "24012925  2649336     5.0      4488\n",
      "14474808  2649336     5.0      2782\n",
      "16315025  2649336     2.0      3151\n",
      "2357758   2649336     3.0       445\n",
      "2044043   2649336     2.0       367\n",
      "13125160  2649336     4.0      2470\n",
      "19722700  2649336     2.0      3756\n",
      "\n",
      "[13528427 rows x 3 columns]\n"
     ]
    }
   ],
   "source": [
    "print (df2)"
   ]
  },
  {
   "cell_type": "markdown",
   "metadata": {},
   "source": [
    "sort by th customer id"
   ]
  },
  {
   "cell_type": "code",
   "execution_count": 17,
   "metadata": {},
   "outputs": [
    {
     "name": "stdout",
     "output_type": "stream",
     "text": [
      "13528427\n",
      "95325\n"
     ]
    }
   ],
   "source": [
    "cust_id_1 = []\n",
    "for i in df2['Cust_Id']:\n",
    "    cust_id_1.append(i)\n",
    "cust_id_2 = set(cust_id_1)\n",
    "cust_id_2 = list(cust_id_2)\n",
    "print (len(cust_id_1))\n",
    "print (len(cust_id_2))\n",
    "\n"
   ]
  },
  {
   "cell_type": "code",
   "execution_count": 18,
   "metadata": {
    "collapsed": true
   },
   "outputs": [],
   "source": [
    "cust_dic ={}\n",
    "j = 1\n",
    "for i in range(len(cust_id_1)-1):\n",
    "    if cust_id_1[i] == cust_id_1[i+1] and cust_id_1[i] not in cust_dic.keys():\n",
    "        cust_dic[cust_id_1[i]] = j\n",
    "    elif cust_id_1[i] != cust_id_1[i+1] :\n",
    "        j += 1"
   ]
  },
  {
   "cell_type": "markdown",
   "metadata": {},
   "source": [
    "Create a dictionary to change the original movie id in to 1,2,3....900"
   ]
  },
  {
   "cell_type": "code",
   "execution_count": 19,
   "metadata": {
    "collapsed": true
   },
   "outputs": [],
   "source": [
    "cust_id_0 = []\n",
    "for i in df['Cust_Id']:\n",
    "    cust_id_0.append(i)"
   ]
  },
  {
   "cell_type": "code",
   "execution_count": 20,
   "metadata": {
    "collapsed": true
   },
   "outputs": [],
   "source": [
    "cust_new = []\n",
    "for i in cust_id_0:\n",
    "    cust_new.append(cust_dic[i])"
   ]
  },
  {
   "cell_type": "markdown",
   "metadata": {},
   "source": [
    "Get the new customer id list"
   ]
  },
  {
   "cell_type": "code",
   "execution_count": 21,
   "metadata": {
    "collapsed": true
   },
   "outputs": [],
   "source": [
    "df_new =df\n",
    "df_new[\"Movie_Id\"] = movie_new\n",
    "df_new[\"Cust_Id\"] = cust_new"
   ]
  },
  {
   "cell_type": "code",
   "execution_count": 25,
   "metadata": {},
   "outputs": [
    {
     "name": "stdout",
     "output_type": "stream",
     "text": [
      "          Cust_Id  Rating  Movie_Id\n",
      "5109        28573     1.0         1\n",
      "5110         8760     3.0         1\n",
      "5112        52383     4.0         1\n",
      "5116        69101     1.0         1\n",
      "5119        63095     1.0         1\n",
      "5122        82437     3.0         1\n",
      "5125        88553     3.0         1\n",
      "5127        83859     4.0         1\n",
      "5128        75699     4.0         1\n",
      "5129        50558     2.0         1\n",
      "5131         2017     5.0         1\n",
      "5134        56995     3.0         1\n",
      "5141        66332     3.0         1\n",
      "5144         2355     3.0         1\n",
      "5145        18690     3.0         1\n",
      "5146        43233     4.0         1\n",
      "5147        15979     4.0         1\n",
      "5154        43707     4.0         1\n",
      "5155         6291     1.0         1\n",
      "5157        53916     4.0         1\n",
      "5158        70345     1.0         1\n",
      "5160        47942     4.0         1\n",
      "5168        29179     5.0         1\n",
      "5169        83261     3.0         1\n",
      "5172        66195     5.0         1\n",
      "5173         1609     4.0         1\n",
      "5174        52369     1.0         1\n",
      "5175        11034     4.0         1\n",
      "5178        48315     4.0         1\n",
      "5179        65745     3.0         1\n",
      "...           ...     ...       ...\n",
      "24056803    18246     3.0       900\n",
      "24056804    48969     4.0       900\n",
      "24056805    43463     4.0       900\n",
      "24056806    55984     4.0       900\n",
      "24056811    75273     5.0       900\n",
      "24056812    58246     4.0       900\n",
      "24056814    60680     3.0       900\n",
      "24056815    90420     4.0       900\n",
      "24056816    11697     3.0       900\n",
      "24056817    85420     4.0       900\n",
      "24056818    73971     4.0       900\n",
      "24056820    50329     4.0       900\n",
      "24056821    22175     1.0       900\n",
      "24056822    61594     4.0       900\n",
      "24056824    75112     5.0       900\n",
      "24056825    51719     4.0       900\n",
      "24056826    21084     4.0       900\n",
      "24056827    11380     4.0       900\n",
      "24056829    14384     3.0       900\n",
      "24056831    59002     4.0       900\n",
      "24056832    75103     3.0       900\n",
      "24056833    78770     3.0       900\n",
      "24056834    34382     3.0       900\n",
      "24056837     7037     5.0       900\n",
      "24056839      568     4.0       900\n",
      "24056840    29907     5.0       900\n",
      "24056841    18981     3.0       900\n",
      "24056842    38352     5.0       900\n",
      "24056845    56546     3.0       900\n",
      "24056846    10564     3.0       900\n",
      "\n",
      "[13528427 rows x 3 columns]\n"
     ]
    }
   ],
   "source": [
    "print(df_new)"
   ]
  },
  {
   "cell_type": "markdown",
   "metadata": {},
   "source": [
    "This is the new dataframe we get, everything looks much better!"
   ]
  },
  {
   "cell_type": "code",
   "execution_count": 22,
   "metadata": {
    "collapsed": true
   },
   "outputs": [],
   "source": [
    "df_new_2 = df_new\n",
    "df_new_2 = df_new_2.sort_values(by =[\"Cust_Id\",\"Movie_Id\"])"
   ]
  },
  {
   "cell_type": "code",
   "execution_count": 27,
   "metadata": {},
   "outputs": [
    {
     "name": "stdout",
     "output_type": "stream",
     "text": [
      "          Cust_Id  Rating  Movie_Id\n",
      "187327          1     3.0         6\n",
      "649807          1     5.0        28\n",
      "795633          1     2.0        31\n",
      "881822          1     3.0        32\n",
      "1054025         1     3.0        41\n",
      "1368727         1     4.0        58\n",
      "1438678         1     3.0        59\n",
      "1723707         1     4.0        64\n",
      "2020328         1     3.0        73\n",
      "2357555         1     3.0        93\n",
      "2462409         1     5.0        94\n",
      "2547684         1     3.0        96\n",
      "2785647         1     3.0       103\n",
      "2811338         1     3.0       105\n",
      "2886520         1     4.0       109\n",
      "3005956         1     4.0       118\n",
      "3183390         1     3.0       121\n",
      "3452557         1     3.0       133\n",
      "3658381         1     3.0       148\n",
      "3807435         1     3.0       153\n",
      "4100524         1     3.0       164\n",
      "4300063         1     3.0       172\n",
      "4460694         1     3.0       180\n",
      "4564709         1     5.0       182\n",
      "4928285         1     4.0       197\n",
      "5366935         1     3.0       221\n",
      "5710285         1     2.0       232\n",
      "5837914         1     3.0       233\n",
      "6068294         1     3.0       240\n",
      "6311835         1     4.0       243\n",
      "...           ...     ...       ...\n",
      "15072452    95325     3.0       576\n",
      "15448684    95325     3.0       591\n",
      "16028667    95325     4.0       615\n",
      "16315025    95325     2.0       624\n",
      "17006221    95325     4.0       653\n",
      "17166839    95325     2.0       658\n",
      "17271434    95325     4.0       660\n",
      "17579790    95325     3.0       670\n",
      "18152155    95325     3.0       689\n",
      "18890476    95325     3.0       729\n",
      "19058364    95325     4.0       733\n",
      "19109328    95325     2.0       734\n",
      "19285216    95325     5.0       739\n",
      "19551370    95325     5.0       750\n",
      "19722700    95325     2.0       756\n",
      "20427729    95325     3.0       777\n",
      "20512242    95325     4.0       782\n",
      "20724325    95325     3.0       787\n",
      "20862206    95325     3.0       791\n",
      "21290567    95325     4.0       802\n",
      "21687122    95325     3.0       819\n",
      "21888410    95325     3.0       825\n",
      "22843109    95325     5.0       862\n",
      "23133576    95325     4.0       869\n",
      "23183571    95325     4.0       871\n",
      "23273197    95325     3.0       872\n",
      "23323229    95325     5.0       874\n",
      "23778074    95325     2.0       890\n",
      "23927756    95325     3.0       893\n",
      "24012925    95325     5.0       896\n",
      "\n",
      "[13528427 rows x 3 columns]\n"
     ]
    }
   ],
   "source": [
    "print(df_new_2)"
   ]
  },
  {
   "cell_type": "markdown",
   "metadata": {},
   "source": [
    "This is sorted by customer id and movie id. Customer id is the first sort element."
   ]
  },
  {
   "cell_type": "code",
   "execution_count": 23,
   "metadata": {
    "collapsed": true
   },
   "outputs": [],
   "source": [
    "df_new_3 = df_new\n",
    "df_new_3 = df_new_3.sort_values(by =[\"Movie_Id\",\"Cust_Id\"])"
   ]
  },
  {
   "cell_type": "code",
   "execution_count": 29,
   "metadata": {},
   "outputs": [
    {
     "name": "stdout",
     "output_type": "stream",
     "text": [
      "          Cust_Id  Rating  Movie_Id\n",
      "12549           2     5.0         1\n",
      "8718           23     1.0         1\n",
      "5549           39     3.0         1\n",
      "7297           77     2.0         1\n",
      "13595         108     2.0         1\n",
      "8909          110     4.0         1\n",
      "12985         111     1.0         1\n",
      "18995         113     2.0         1\n",
      "12810         121     3.0         1\n",
      "12834         151     3.0         1\n",
      "19068         159     5.0         1\n",
      "8807          161     5.0         1\n",
      "10803         163     2.0         1\n",
      "14356         178     3.0         1\n",
      "15514         192     3.0         1\n",
      "16286         204     5.0         1\n",
      "8857          234     1.0         1\n",
      "7418          239     5.0         1\n",
      "15425         263     4.0         1\n",
      "19625         267     3.0         1\n",
      "6532          268     4.0         1\n",
      "8084          275     1.0         1\n",
      "12309         308     3.0         1\n",
      "14294         312     2.0         1\n",
      "7562          325     3.0         1\n",
      "7797          357     1.0         1\n",
      "5991          377     3.0         1\n",
      "5285          386     2.0         1\n",
      "16194         392     5.0         1\n",
      "17319         403     3.0         1\n",
      "...           ...     ...       ...\n",
      "24054930    94919     4.0       900\n",
      "24050939    94924     5.0       900\n",
      "24054808    94936     3.0       900\n",
      "24051968    94950     4.0       900\n",
      "24056490    94962     5.0       900\n",
      "24051850    94972     5.0       900\n",
      "24050670    94974     5.0       900\n",
      "24052255    94983     4.0       900\n",
      "24048499    94989     2.0       900\n",
      "24049963    94994     4.0       900\n",
      "24050160    95013     1.0       900\n",
      "24049032    95016     5.0       900\n",
      "24049596    95024     3.0       900\n",
      "24055136    95031     4.0       900\n",
      "24049289    95039     4.0       900\n",
      "24054856    95067     3.0       900\n",
      "24056790    95083     3.0       900\n",
      "24056467    95096     3.0       900\n",
      "24055151    95137     4.0       900\n",
      "24055643    95161     5.0       900\n",
      "24048149    95187     5.0       900\n",
      "24047672    95191     5.0       900\n",
      "24048617    95193     4.0       900\n",
      "24053407    95206     3.0       900\n",
      "24053297    95221     1.0       900\n",
      "24056064    95226     4.0       900\n",
      "24048281    95292     3.0       900\n",
      "24055242    95296     5.0       900\n",
      "24054977    95304     5.0       900\n",
      "24052659    95323     4.0       900\n",
      "\n",
      "[13528427 rows x 3 columns]\n"
     ]
    }
   ],
   "source": [
    "print(df_new_3)"
   ]
  },
  {
   "cell_type": "markdown",
   "metadata": {},
   "source": [
    "This is sorted by customer id and movie id. Movie id is the first sort element."
   ]
  },
  {
   "cell_type": "markdown",
   "metadata": {},
   "source": [
    "#### 7.Store the rating in a list"
   ]
  },
  {
   "cell_type": "code",
   "execution_count": 24,
   "metadata": {
    "collapsed": true
   },
   "outputs": [],
   "source": [
    "cust_new_order = list(cust_new)\n",
    "cust_new_order = sorted(cust_new_order)"
   ]
  },
  {
   "cell_type": "code",
   "execution_count": 25,
   "metadata": {
    "collapsed": true
   },
   "outputs": [],
   "source": [
    "rating_1 = []\n",
    "for i in df_new_2['Rating']:\n",
    "    rating_1.append(i)"
   ]
  },
  {
   "cell_type": "markdown",
   "metadata": {},
   "source": [
    "Store the rating in a list"
   ]
  },
  {
   "cell_type": "code",
   "execution_count": 26,
   "metadata": {
    "collapsed": true
   },
   "outputs": [],
   "source": [
    "movie_new_1 = []\n",
    "for i in df_new_2['Movie_Id']:\n",
    "    movie_new_1.append(i)"
   ]
  },
  {
   "cell_type": "code",
   "execution_count": 27,
   "metadata": {
    "collapsed": true
   },
   "outputs": [],
   "source": [
    "x = []# the rating user gives to movie\n",
    "w = []\n",
    "i = 0\n",
    "j = 0\n",
    "x0 = 1\n",
    "y0 = 1\n",
    "temp1 = []\n",
    "temp2 = []\n",
    "while i < len(cust_new_order) and j <len(movie_new_1):\n",
    "    \n",
    "    if i ==len(cust_new_order)-1:\n",
    "        while len(temp1)<900:\n",
    "            temp1.append(-1)\n",
    "            temp2.append(-1)\n",
    "        x.append(temp1)\n",
    "        w.append(temp2)\n",
    "        i += 1\n",
    "        \n",
    "    \n",
    "    elif cust_new_order[i] == x0 and movie_new_1[j] == y0:\n",
    "        temp1.append(rating_1[i])\n",
    "        temp2.append(1)\n",
    "        i += 1\n",
    "        j += 1\n",
    "        y0 += 1\n",
    "    elif cust_new_order[i] == x0 and movie_new_1[j] != y0:\n",
    "        temp1.append(-1)\n",
    "        temp2.append(-2)\n",
    "        y0 += 1\n",
    "    elif cust_new_order[i] != x0:\n",
    "        while len(temp1)<900:\n",
    "            temp1.append(-1)\n",
    "            temp2.append(-1)\n",
    "        x.append(temp1)\n",
    "        w.append(temp2)\n",
    "        x0 += 1\n",
    "        y0 = 1\n",
    "        temp1 = []\n",
    "        temp2 = []\n"
   ]
  },
  {
   "cell_type": "markdown",
   "metadata": {},
   "source": [
    "Store the rating in a two demension list, just like matrix, x[0] is a list about user 1, x[0][0] is the rating user 1 gives to movie1 , if user 1 didn't rate movie 1, then it equals -1, which means not applicable.\n",
    "\n",
    "Here I also create a two demension list the same as x, here we call it w, I will use this in the next EM algorithm part."
   ]
  },
  {
   "cell_type": "markdown",
   "metadata": {},
   "source": [
    "### Second part: Implement the EM algorithm"
   ]
  },
  {
   "cell_type": "markdown",
   "metadata": {},
   "source": [
    "#### 1.Introduce the model"
   ]
  },
  {
   "cell_type": "markdown",
   "metadata": {},
   "source": [
    "Each rater does so in one of two modes that we will call “quirky” and “consensus.” In quirky mode, rater i has a private rating distribution with probability mass function $ q(x|\\alpha_i)$ that applies to every movie regardless of its intrinsic merit. In consensus mode, rater i rates movie j according to a distribution with probability mass function $c(x|\\beta_j)$ shared with all other raters in consensus mode. For every movie i rates, he or she makes a quirky decision with probability $\\pi_i$and a consensus decision with probability 1 − $\\pi_i$. These decisions are made independently across raters and movies. If $x_{ij}$ is the rating given to movie j by rater i, the log likelihood of the data is"
   ]
  },
  {
   "cell_type": "markdown",
   "metadata": {},
   "source": [
    "Formula 1:$$ log(L(\\theta)) =\\sum_i\\sum_{j_{x_{ij}>0}} log[\\pi_i*q(x_{ij}|\\alpha_i)+(1-\\pi_i)*c(x_{ij}|\\beta_j)] $$"
   ]
  },
  {
   "cell_type": "markdown",
   "metadata": {},
   "source": [
    "In our model, we want to find the user with a high $\\pi$. We identify these users unusual users, our goal of the EM algorithm is to find these users. We update each parameter in every step. After some steps, we will get a resonable $\\pi$"
   ]
  },
  {
   "cell_type": "markdown",
   "metadata": {},
   "source": [
    "In our model, we use the binomial mode for q and c. k is the rating, d equals 5 here"
   ]
  },
  {
   "cell_type": "markdown",
   "metadata": {},
   "source": [
    "Formula 2:$$ q(k|\\alpha_i) = \\begin{pmatrix}d-1\\\\k-1\\end{pmatrix}*\\alpha_i^{k-1}*(1-\\alpha_i)^{d-k}$$\n",
    "Formula 3:$$ c(k|\\beta_j) = \\begin{pmatrix}d-1\\\\k-1\\end{pmatrix}*\\beta_j^{k-1}*(1-\\beta_j)^{d-k}$$"
   ]
  },
  {
   "cell_type": "markdown",
   "metadata": {},
   "source": [
    "We define $w_{ij}$, n means the value in nth step:"
   ]
  },
  {
   "cell_type": "markdown",
   "metadata": {},
   "source": [
    "Formula 4:$$w_{ij}^{n} =\\frac{\\pi_i^{n}*q(x_{ij}|\\alpha_i^{n})}{\\pi_i^{n}*q(x_{ij}|\\alpha_i^{n}) + (1-\\pi_i^{n})*c(x_{ij}|\\beta_j^{n})} $$"
   ]
  },
  {
   "cell_type": "markdown",
   "metadata": {},
   "source": [
    "The formula 4 above is our expectation step, also called the E step."
   ]
  },
  {
   "cell_type": "markdown",
   "metadata": {},
   "source": [
    "Formula 5: $$\\pi_i^{n+1} = \\frac{\\sum_{j_{x_{ij}>0}}w_{ij}^{n}}{m_i}$$"
   ]
  },
  {
   "cell_type": "markdown",
   "metadata": {},
   "source": [
    "Formula 6: $$ \\alpha_i^{n+1} = \\frac{\\sum_{j_{x_{ij}>0}}w_{ij}^{n}*(x_{ij}-1)}{(d-1)*\\sum_{j_{x_{ij}>0}}w_{ij}^{n}} $$"
   ]
  },
  {
   "cell_type": "markdown",
   "metadata": {},
   "source": [
    "Formula 7: $$ \\beta_j^{n+1} = \\frac{\\sum_i(1-w_{ij}^{n})*(x_{ij}-1)}{(d-1)*\\sum_i(1-w_{ij}^{n})} $$"
   ]
  },
  {
   "cell_type": "markdown",
   "metadata": {},
   "source": [
    "The three formulas above are the M step, we update the parameters in order to get to maximize the log likelihood function. The $m_i$ in formula 5 is the number of movies user i have rated."
   ]
  },
  {
   "cell_type": "markdown",
   "metadata": {},
   "source": [
    "#### 2.Implement the model"
   ]
  },
  {
   "cell_type": "code",
   "execution_count": 28,
   "metadata": {
    "collapsed": true
   },
   "outputs": [],
   "source": [
    "def pri_dist(alpha,rating):\n",
    "    ans = alpha**(rating-1)*(1-alpha)**(5-rating)*24/(math.factorial(int(rating-1))*math.factorial(int(5-rating)))\n",
    "    return ans"
   ]
  },
  {
   "cell_type": "markdown",
   "metadata": {},
   "source": [
    "This corresponds to formula 2"
   ]
  },
  {
   "cell_type": "code",
   "execution_count": 29,
   "metadata": {
    "collapsed": true
   },
   "outputs": [],
   "source": [
    "def con_dist(beta,rating):\n",
    "    ans = beta**(rating-1)*(1-beta)**(5-rating)*24/(math.factorial(int(rating-1))*math.factorial(int(5-rating)))\n",
    "    return ans"
   ]
  },
  {
   "cell_type": "markdown",
   "metadata": {},
   "source": [
    "This corresponds to formula 3"
   ]
  },
  {
   "cell_type": "code",
   "execution_count": 30,
   "metadata": {
    "collapsed": true
   },
   "outputs": [],
   "source": [
    "def loglikeli(pi,alpha,beta,x):\n",
    "    s = 0\n",
    "    for user in range(len(x)):\n",
    "        for mov in range(len(x[user])):\n",
    "            if x[user][mov] > 0:\n",
    "                a = pi[user]*pri_dist(alpha[user],x[user][mov])\n",
    "                b = (1-pi[user])*con_dist(beta[mov],x[user][mov])\n",
    "                s += math.log(a+b)\n",
    "    return s"
   ]
  },
  {
   "cell_type": "markdown",
   "metadata": {},
   "source": [
    "This corresponds to formula 1"
   ]
  },
  {
   "cell_type": "code",
   "execution_count": 31,
   "metadata": {
    "collapsed": true
   },
   "outputs": [],
   "source": [
    "def get_w(pi,alpha,beta,x,w):\n",
    "    for user in range(len(w)):\n",
    "        for mov in range(len(w[user])):\n",
    "            if w[user][mov]>0:\n",
    "                a = pi[user]*pri_dist(alpha[user],x[user][mov])\n",
    "                b = a + (1-pi[user])*con_dist(beta[mov],x[user][mov])\n",
    "                w[user][mov]= a/b\n",
    "    return w"
   ]
  },
  {
   "cell_type": "markdown",
   "metadata": {},
   "source": [
    "This corresponds to formula 4"
   ]
  },
  {
   "cell_type": "code",
   "execution_count": 32,
   "metadata": {
    "collapsed": true
   },
   "outputs": [],
   "source": [
    "def get_pi(pi,w):\n",
    "    pi2 = list(pi)\n",
    "    for user in range(len(pi)):\n",
    "        s = 0\n",
    "        n = 0\n",
    "        for movie in w[user]:\n",
    "            if movie>0:\n",
    "                s += movie\n",
    "                n += 1\n",
    "        pi2[user] = s/n\n",
    "    return pi2"
   ]
  },
  {
   "cell_type": "markdown",
   "metadata": {},
   "source": [
    "This corresponds to formula 5"
   ]
  },
  {
   "cell_type": "code",
   "execution_count": 33,
   "metadata": {
    "collapsed": true
   },
   "outputs": [],
   "source": [
    "def get_alpha(x,w):\n",
    "    alpha = []\n",
    "    for user in range(len(x)):\n",
    "        a = 0\n",
    "        b = 0\n",
    "        for mov in range(len(x[0])):\n",
    "            if w[user][mov]>0:\n",
    "                a += w[user][mov]*(x[user][mov]-1)\n",
    "                b += w[user][mov]\n",
    "        alpha.append(a/(b*4))\n",
    "    return alpha\n",
    "            "
   ]
  },
  {
   "cell_type": "markdown",
   "metadata": {},
   "source": [
    "This corresponds to formula 6"
   ]
  },
  {
   "cell_type": "code",
   "execution_count": 34,
   "metadata": {
    "collapsed": true
   },
   "outputs": [],
   "source": [
    "def get_beta(x,w):\n",
    "    beta = []\n",
    "    for mov in range(len(x[0])):\n",
    "        a = 0\n",
    "        b = 0\n",
    "        for user in range(len(x)):\n",
    "            if x[user][mov] > 0:\n",
    "                a += (1-w[user][mov])*(x[user][mov]-1)\n",
    "                b += 4*(1-w[user][mov])\n",
    "        beta.append(a/b)\n",
    "    return beta\n",
    "                "
   ]
  },
  {
   "cell_type": "markdown",
   "metadata": {},
   "source": [
    "This corresponds to formula 7"
   ]
  },
  {
   "cell_type": "code",
   "execution_count": 35,
   "metadata": {
    "collapsed": true
   },
   "outputs": [],
   "source": [
    "pi = []\n",
    "for i in range(len(cust_id_2)):\n",
    "    pi.append(0.2)"
   ]
  },
  {
   "cell_type": "markdown",
   "metadata": {},
   "source": [
    "Give some initial value to $\\pi$"
   ]
  },
  {
   "cell_type": "code",
   "execution_count": 36,
   "metadata": {
    "collapsed": true
   },
   "outputs": [],
   "source": [
    "alpha = []\n",
    "for i in range(len(cust_id_2)):\n",
    "    alpha.append(0.2)"
   ]
  },
  {
   "cell_type": "markdown",
   "metadata": {},
   "source": [
    "Give some initial value to $\\alpha$"
   ]
  },
  {
   "cell_type": "code",
   "execution_count": 37,
   "metadata": {
    "collapsed": true
   },
   "outputs": [],
   "source": [
    "beta = []\n",
    "for i in range(len(movie_id_2)):\n",
    "    beta.append(0.2)"
   ]
  },
  {
   "cell_type": "markdown",
   "metadata": {},
   "source": [
    "Give some initial value to $\\beta$"
   ]
  },
  {
   "cell_type": "code",
   "execution_count": 38,
   "metadata": {},
   "outputs": [
    {
     "data": {
      "text/plain": [
       "-44750813.9306213"
      ]
     },
     "execution_count": 38,
     "metadata": {},
     "output_type": "execute_result"
    }
   ],
   "source": [
    "l1 = loglikeli(pi,alpha,beta,x)\n",
    "l1"
   ]
  },
  {
   "cell_type": "markdown",
   "metadata": {},
   "source": [
    "Calculate the loglikelihood for the initial values."
   ]
  },
  {
   "cell_type": "code",
   "execution_count": 39,
   "metadata": {
    "collapsed": true
   },
   "outputs": [],
   "source": [
    "l = [l1]"
   ]
  },
  {
   "cell_type": "code",
   "execution_count": 44,
   "metadata": {
    "scrolled": false
   },
   "outputs": [],
   "source": [
    "c = 0\n",
    "while c<20:\n",
    "    w = get_w(pi,alpha,beta,x,w)\n",
    "    pi = get_pi(pi,w)\n",
    "    alpha = get_alpha(x,w)\n",
    "    beta = get_beta(x,w)\n",
    "    like = loglikeli(pi,alpha,beta,x)\n",
    "    if ((l[-1]-like)/l[-1])<0.0005:\n",
    "        break\n",
    "        \n",
    "    l.append(like)\n",
    "    c += 1"
   ]
  },
  {
   "cell_type": "markdown",
   "metadata": {},
   "source": [
    "Here is the EM algorithm, it is quite straight forward. If the new loglikelihood doesn't improve more than 0.05%, we break the loop, it costs  a lot of time here, so if we want to a better precision, maybe I need to buy a better computer.  "
   ]
  },
  {
   "cell_type": "code",
   "execution_count": 41,
   "metadata": {},
   "outputs": [
    {
     "data": {
      "text/plain": [
       "[-44750813.9306213,\n",
       " -17953815.863757826,\n",
       " -17480821.25479855,\n",
       " -17283017.47249343,\n",
       " -17201467.36237369,\n",
       " -17156534.31583064,\n",
       " -17125683.394965343,\n",
       " -17102350.607154228,\n",
       " -17083922.86357335,\n",
       " -17069056.081922524,\n",
       " -17057069.78541323,\n",
       " -17047400.61556667]"
      ]
     },
     "execution_count": 41,
     "metadata": {},
     "output_type": "execute_result"
    }
   ],
   "source": [
    "l"
   ]
  },
  {
   "cell_type": "markdown",
   "metadata": {},
   "source": [
    "This is the loglikelihood in each step, we improve a lot in first step because the initial values are far away from the convergence values. And we see the loglikehood becomes bigger in each step, which means our algorithm is right. The basic goal of EM algorithm is to maximize the likelihood function."
   ]
  },
  {
   "cell_type": "code",
   "execution_count": 55,
   "metadata": {},
   "outputs": [
    {
     "name": "stdout",
     "output_type": "stream",
     "text": [
      "644\n",
      "986\n",
      "1118\n",
      "1363\n",
      "3058\n",
      "3804\n",
      "3847\n",
      "4623\n",
      "5043\n",
      "6258\n",
      "6455\n",
      "6959\n",
      "7463\n",
      "7780\n",
      "8015\n",
      "8068\n",
      "8385\n",
      "9256\n",
      "10227\n",
      "10661\n",
      "10870\n",
      "10873\n",
      "11288\n",
      "11326\n",
      "12161\n",
      "12663\n",
      "13293\n",
      "14450\n",
      "14573\n",
      "15202\n",
      "17029\n",
      "17399\n",
      "18566\n",
      "19202\n",
      "19318\n",
      "19354\n",
      "20169\n",
      "20954\n",
      "21094\n",
      "21624\n",
      "22681\n",
      "22892\n",
      "22906\n",
      "23148\n",
      "23295\n",
      "23426\n",
      "23731\n",
      "25333\n",
      "25552\n",
      "26262\n",
      "27398\n",
      "27719\n",
      "28555\n",
      "28919\n",
      "30574\n",
      "31188\n",
      "31490\n",
      "31561\n",
      "31590\n",
      "33378\n",
      "35026\n",
      "35897\n",
      "36063\n",
      "36410\n",
      "36659\n",
      "38726\n",
      "39300\n",
      "42229\n",
      "42265\n",
      "42795\n",
      "42833\n",
      "43299\n",
      "44453\n",
      "44660\n",
      "45826\n",
      "46124\n",
      "46146\n",
      "47516\n",
      "48043\n",
      "48755\n",
      "49177\n",
      "50166\n",
      "50715\n",
      "50737\n",
      "50738\n",
      "50776\n",
      "51221\n",
      "51915\n",
      "52959\n",
      "53096\n",
      "53191\n",
      "53512\n",
      "53697\n",
      "53896\n",
      "54664\n",
      "54784\n",
      "55122\n",
      "55386\n",
      "57670\n",
      "58183\n",
      "58885\n",
      "59712\n",
      "59736\n",
      "60161\n",
      "60168\n",
      "62648\n",
      "62840\n",
      "63123\n",
      "63693\n",
      "64781\n",
      "65085\n",
      "65336\n",
      "66386\n",
      "66408\n",
      "67253\n",
      "67257\n",
      "67393\n",
      "67527\n",
      "68227\n",
      "69194\n",
      "69540\n",
      "69633\n",
      "70343\n",
      "70503\n",
      "72955\n",
      "73351\n",
      "74299\n",
      "74399\n",
      "74628\n",
      "75766\n",
      "77395\n",
      "78034\n",
      "78231\n",
      "79328\n",
      "80108\n",
      "80397\n",
      "80474\n",
      "80705\n",
      "80774\n",
      "82077\n",
      "82123\n",
      "82260\n",
      "82975\n",
      "83066\n",
      "83114\n",
      "83555\n",
      "83580\n",
      "83706\n",
      "84769\n",
      "85985\n",
      "87751\n",
      "88088\n",
      "88199\n",
      "88366\n",
      "88787\n",
      "89003\n",
      "90561\n",
      "91285\n",
      "91346\n",
      "92130\n",
      "92585\n",
      "93200\n",
      "94366\n",
      "94739\n",
      "94835\n",
      "95012\n"
     ]
    }
   ],
   "source": [
    "for i in range(len(pi)):\n",
    "    if pi[i] >0.99:\n",
    "        print(i)"
   ]
  },
  {
   "cell_type": "markdown",
   "metadata": {},
   "source": [
    "To check that our algorithm is right, we get some users with a extremely high $\\pi$. Bigger than 0.99!"
   ]
  },
  {
   "cell_type": "code",
   "execution_count": 58,
   "metadata": {},
   "outputs": [
    {
     "name": "stdout",
     "output_type": "stream",
     "text": [
      "          Cust_Id  Rating  Movie_Id\n",
      "72263         987     5.0         5\n",
      "297076        987     5.0        12\n",
      "306284        987     5.0        13\n",
      "709595        987     5.0        30\n",
      "766008        987     5.0        31\n",
      "954652        987     5.0        35\n",
      "1359964       987     5.0        58\n",
      "1465411       987     5.0        60\n",
      "1703757       987     5.0        64\n",
      "2075909       987     5.0        78\n",
      "2227005       987     5.0        85\n",
      "2256753       987     5.0        89\n",
      "2427293       987     5.0        94\n",
      "2529331       987     5.0        96\n",
      "2577111       987     5.0        98\n",
      "2701185       987     5.0       100\n",
      "2964736       987     5.0       115\n",
      "2991881       987     5.0       117\n",
      "3002682       987     5.0       118\n",
      "3266212       987     5.0       123\n",
      "3544877       987     5.0       141\n",
      "3560320       987     5.0       143\n",
      "3624369       987     5.0       147\n",
      "3646742       987     5.0       148\n",
      "4082886       987     5.0       164\n",
      "4282232       987     5.0       171\n",
      "4383257       987     5.0       177\n",
      "4735549       987     5.0       192\n",
      "4789536       987     5.0       195\n",
      "4901266       987     5.0       197\n",
      "...           ...     ...       ...\n",
      "21244268      987     5.0       802\n",
      "21370964      987     5.0       804\n",
      "21448673      987     5.0       808\n",
      "21509688      987     5.0       810\n",
      "21599472      987     5.0       813\n",
      "21709307      987     5.0       820\n",
      "21780374      987     5.0       824\n",
      "21916515      987     5.0       826\n",
      "21961540      987     5.0       828\n",
      "21991048      987     5.0       830\n",
      "22049537      987     5.0       834\n",
      "22142273      987     5.0       838\n",
      "22184284      987     5.0       841\n",
      "22232823      987     5.0       844\n",
      "22392875      987     5.0       851\n",
      "22425988      987     5.0       852\n",
      "22461152      987     5.0       853\n",
      "22647227      987     5.0       859\n",
      "22793268      987     5.0       862\n",
      "23042295      987     5.0       868\n",
      "23376031      987     5.0       876\n",
      "23387822      987     5.0       877\n",
      "23413100      987     5.0       879\n",
      "23455000      987     5.0       881\n",
      "23486162      987     5.0       882\n",
      "23518658      987     5.0       883\n",
      "23566846      987     5.0       885\n",
      "23610166      987     5.0       886\n",
      "23727003      987     5.0       890\n",
      "23948167      987     5.0       894\n",
      "\n",
      "[160 rows x 3 columns]\n"
     ]
    }
   ],
   "source": [
    "df_986 = df_new[(df_new['Cust_Id'] == 987)]\n",
    "print(df_986)"
   ]
  },
  {
   "cell_type": "markdown",
   "metadata": {},
   "source": [
    "We get the rating for user 987, we can see that this user always gives 5. This is the unusual user we want to find. It seems that our algorithm did the things we expect."
   ]
  },
  {
   "cell_type": "code",
   "execution_count": 53,
   "metadata": {
    "collapsed": true
   },
   "outputs": [],
   "source": [
    "quirky =[]\n",
    "for i in range(len(pi)):\n",
    "    if pi[i] >0.6:\n",
    "        quirky.append(i)"
   ]
  },
  {
   "cell_type": "markdown",
   "metadata": {},
   "source": [
    "Here we define the users with $\\pi$ bigger than 0.6 as unusual users"
   ]
  },
  {
   "cell_type": "code",
   "execution_count": 54,
   "metadata": {},
   "outputs": [
    {
     "data": {
      "text/plain": [
       "7266"
      ]
     },
     "execution_count": 54,
     "metadata": {},
     "output_type": "execute_result"
    }
   ],
   "source": [
    "len(quirky)"
   ]
  },
  {
   "cell_type": "markdown",
   "metadata": {},
   "source": [
    "We will remove these 7266 users"
   ]
  },
  {
   "cell_type": "code",
   "execution_count": 54,
   "metadata": {},
   "outputs": [
    {
     "data": {
      "image/png": "[encoded data removed]",
      "text/plain": [
       "<matplotlib.figure.Figure at 0x234937ee6a0>"
      ]
     },
     "metadata": {},
     "output_type": "display_data"
    }
   ],
   "source": [
    "fig = plt.figure()\n",
    "ax = plt.axes()\n",
    "n, bins, rectangles = ax.hist(pi,40,color='blue')\n",
    "plt.show()"
   ]
  },
  {
   "cell_type": "markdown",
   "metadata": {},
   "source": [
    "This is the hist of $\\pi$ we get"
   ]
  },
  {
   "cell_type": "code",
   "execution_count": 42,
   "metadata": {},
   "outputs": [
    {
     "data": {
      "image/png": "[encoded data removed]",
      "text/plain": [
       "<matplotlib.figure.Figure at 0x25e5817c470>"
      ]
     },
     "metadata": {},
     "output_type": "display_data"
    }
   ],
   "source": [
    "fig = plt.figure()\n",
    "ax = plt.axes()\n",
    "n, bins, rectangles = ax.hist(alpha,40,color='blue')\n",
    "plt.show()"
   ]
  },
  {
   "cell_type": "markdown",
   "metadata": {},
   "source": [
    "This is the hist of $\\alpha$ we get"
   ]
  },
  {
   "cell_type": "code",
   "execution_count": 43,
   "metadata": {},
   "outputs": [
    {
     "data": {
      "image/png": "[encoded data removed]",
      "text/plain": [
       "<matplotlib.figure.Figure at 0x25f3d331b70>"
      ]
     },
     "metadata": {},
     "output_type": "display_data"
    }
   ],
   "source": [
    "fig = plt.figure()\n",
    "ax = plt.axes()\n",
    "n, bins, rectangles = ax.hist(beta,40,color='blue')\n",
    "plt.show()"
   ]
  },
  {
   "cell_type": "markdown",
   "metadata": {},
   "source": [
    "This is the hist of $\\beta$ we get"
   ]
  },
  {
   "cell_type": "markdown",
   "metadata": {},
   "source": [
    "### Third part: Compare the original collaborate filtering result and the result after remove some unusual users"
   ]
  },
  {
   "cell_type": "code",
   "execution_count": 50,
   "metadata": {},
   "outputs": [
    {
     "data": {
      "text/plain": [
       "{'fit_time': (141.32738661766052,\n",
       "  151.54900240898132,\n",
       "  144.72917556762695,\n",
       "  140.99976992607117,\n",
       "  126.83862566947937),\n",
       " 'test_mae': array([ 0.73327766,  0.73297882,  0.73231072,  0.73095701,  0.73001626]),\n",
       " 'test_rmse': array([ 0.93505776,  0.93468037,  0.93444277,  0.93125733,  0.92982399]),\n",
       " 'test_time': (5.796457290649414,\n",
       "  5.096686124801636,\n",
       "  4.8470094203948975,\n",
       "  4.365606069564819,\n",
       "  3.231356620788574)}"
      ]
     },
     "execution_count": 50,
     "metadata": {},
     "output_type": "execute_result"
    }
   ],
   "source": [
    "reader = Reader()\n",
    "\n",
    "\n",
    "data = Dataset.load_from_df(df[['Cust_Id', 'Movie_Id', 'Rating']][:2000000], reader)\n",
    "data.split(n_folds=5)\n",
    "\n",
    "svd = SVD()\n",
    "cross_validate(svd, data, measures=['RMSE', 'MAE'])"
   ]
  },
  {
   "cell_type": "markdown",
   "metadata": {},
   "source": [
    "Here is the result of use collaborate filtering from the original dataset. Here we just use the first 2 million rating because it takes too much time to use the whold dataset."
   ]
  },
  {
   "cell_type": "code",
   "execution_count": 55,
   "metadata": {
    "collapsed": true
   },
   "outputs": [],
   "source": [
    "drop_list = df_new[df_new['Cust_Id'] ==quirky[0]]"
   ]
  },
  {
   "cell_type": "code",
   "execution_count": 56,
   "metadata": {
    "collapsed": true
   },
   "outputs": [],
   "source": [
    "for i in quirky[1:]:\n",
    "    \n",
    "    drop_list = drop_list.append(df_new[df_new['Cust_Id']==i])"
   ]
  },
  {
   "cell_type": "code",
   "execution_count": 57,
   "metadata": {
    "collapsed": true
   },
   "outputs": [],
   "source": [
    "df_after_EM = df_new[~df_new[\"Cust_Id\"].isin(quirky)]"
   ]
  },
  {
   "cell_type": "markdown",
   "metadata": {},
   "source": [
    "Here we get the dataset after remove unusual users"
   ]
  },
  {
   "cell_type": "code",
   "execution_count": 58,
   "metadata": {},
   "outputs": [
    {
     "name": "stdout",
     "output_type": "stream",
     "text": [
      "After Trim Shape: (12494788, 3)\n"
     ]
    }
   ],
   "source": [
    "print('After Trim Shape: {}'.format(df_after_EM.shape))"
   ]
  },
  {
   "cell_type": "code",
   "execution_count": 59,
   "metadata": {},
   "outputs": [
    {
     "data": {
      "text/plain": [
       "{'fit_time': (137.04932761192322,\n",
       "  135.42327165603638,\n",
       "  136.73688554763794,\n",
       "  132.8835961818695,\n",
       "  128.66199922561646),\n",
       " 'test_mae': array([ 0.72625528,  0.7286607 ,  0.72662997,  0.72764525,  0.72870872]),\n",
       " 'test_rmse': array([ 0.92592605,  0.92794139,  0.9263454 ,  0.92663783,  0.9272608 ]),\n",
       " 'test_time': (5.845985651016235,\n",
       "  4.9272801876068115,\n",
       "  4.120047330856323,\n",
       "  3.219062089920044,\n",
       "  3.083280563354492)}"
      ]
     },
     "execution_count": 59,
     "metadata": {},
     "output_type": "execute_result"
    }
   ],
   "source": [
    "reader = Reader()\n",
    "\n",
    "\n",
    "data = Dataset.load_from_df(df_after_EM[['Cust_Id', 'Movie_Id', 'Rating']][:2000000], reader)\n",
    "data.split(n_folds=5)\n",
    "\n",
    "svd = SVD()\n",
    "cross_validate(svd, data, measures=['RMSE', 'MAE'])"
   ]
  },
  {
   "cell_type": "markdown",
   "metadata": {
    "collapsed": true
   },
   "source": [
    "The above is the result after removing the unusual users. Compare to the first result, we see the mae and rmse is significantly smaller than the first model. Which means the second model is better in recommend, these unusual users did bad effect in the recommendation system. Our project is successful!"
   ]
  },
  {
   "cell_type": "markdown",
   "metadata": {},
   "source": [
    "### Fourth part: Conclusions and further discuss"
   ]
  },
  {
   "cell_type": "markdown",
   "metadata": {},
   "source": [
    "#### 1. Conclusion"
   ]
  },
  {
   "cell_type": "markdown",
   "metadata": {},
   "source": [
    "From the results we get in the third part, we can say our project is successful. The EM algorithm helps us to calculate the $\\pi$ of each user, and we use the $\\pi$ to find the unusual users in the dataset. After we remove these users, our recommendation system becomes better!"
   ]
  },
  {
   "cell_type": "markdown",
   "metadata": {},
   "source": [
    "#### 2. Discuss"
   ]
  },
  {
   "cell_type": "markdown",
   "metadata": {},
   "source": [
    "Although our project has a good result, we can also do some improvement in the future. \n",
    "\n",
    "First, we didn't do many EM steps, if we use a better computer, we can do more steps and get the accurate results. \n",
    "\n",
    "Second, in our assumption, we use the binomial model to simulate the private and consensus model. We can build more other models and compare these models to find the best model.\n",
    "\n",
    "In the future, we would like to apply this EM method to other dataset other than this."
   ]
  }
 ],
 "metadata": {
  "kernelspec": {
   "display_name": "Python 3",
   "language": "python",
   "name": "python3"
  },
  "language_info": {
   "codemirror_mode": {
    "name": "ipython",
    "version": 3
   },
   "file_extension": ".py",
   "mimetype": "text/x-python",
   "name": "python",
   "nbconvert_exporter": "python",
   "pygments_lexer": "ipython3",
   "version": "3.6.3"
  }
 },
 "nbformat": 4,
 "nbformat_minor": 2
}
